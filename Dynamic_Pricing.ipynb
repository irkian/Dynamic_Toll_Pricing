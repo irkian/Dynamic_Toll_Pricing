{
 "cells": [
  {
   "cell_type": "code",
   "execution_count": 1,
   "id": "79ed0422",
   "metadata": {},
   "outputs": [],
   "source": [
    "import pandas as pd\n",
    "import numpy as np\n",
    "from sklearn.model_selection import train_test_split\n",
    "from sklearn.ensemble import RandomForestRegressor\n",
    "from sklearn.metrics import mean_squared_error, r2_score\n",
    "from sklearn.preprocessing import StandardScaler, LabelEncoder\n",
    "from sklearn.metrics import mean_absolute_error, mean_squared_error\n"
   ]
  },
  {
   "cell_type": "code",
   "execution_count": 2,
   "id": "0c7dd1a3",
   "metadata": {},
   "outputs": [
    {
     "data": {
      "text/html": [
       "<div>\n",
       "<style scoped>\n",
       "    .dataframe tbody tr th:only-of-type {\n",
       "        vertical-align: middle;\n",
       "    }\n",
       "\n",
       "    .dataframe tbody tr th {\n",
       "        vertical-align: top;\n",
       "    }\n",
       "\n",
       "    .dataframe thead th {\n",
       "        text-align: right;\n",
       "    }\n",
       "</style>\n",
       "<table border=\"1\" class=\"dataframe\">\n",
       "  <thead>\n",
       "    <tr style=\"text-align: right;\">\n",
       "      <th></th>\n",
       "      <th>datetime</th>\n",
       "      <th>direction</th>\n",
       "      <th>toll_point</th>\n",
       "      <th>rate</th>\n",
       "      <th>pbm_rate</th>\n",
       "    </tr>\n",
       "  </thead>\n",
       "  <tbody>\n",
       "    <tr>\n",
       "      <th>0</th>\n",
       "      <td>2018-01-01 00:00:00</td>\n",
       "      <td>NB</td>\n",
       "      <td>2222 to Parmer</td>\n",
       "      <td>0.25</td>\n",
       "      <td>0.33</td>\n",
       "    </tr>\n",
       "    <tr>\n",
       "      <th>1</th>\n",
       "      <td>2018-01-01 00:00:00</td>\n",
       "      <td>NB</td>\n",
       "      <td>CVZ to 183</td>\n",
       "      <td>0.25</td>\n",
       "      <td>0.33</td>\n",
       "    </tr>\n",
       "    <tr>\n",
       "      <th>2</th>\n",
       "      <td>2018-01-01 00:00:00</td>\n",
       "      <td>NB</td>\n",
       "      <td>CVZ to Parmer</td>\n",
       "      <td>0.50</td>\n",
       "      <td>0.66</td>\n",
       "    </tr>\n",
       "    <tr>\n",
       "      <th>3</th>\n",
       "      <td>2018-01-01 00:00:00</td>\n",
       "      <td>SB</td>\n",
       "      <td>2222 to 5th/CVZ</td>\n",
       "      <td>0.25</td>\n",
       "      <td>0.33</td>\n",
       "    </tr>\n",
       "    <tr>\n",
       "      <th>4</th>\n",
       "      <td>2018-01-01 00:00:00</td>\n",
       "      <td>SB</td>\n",
       "      <td>Parmer to 2222</td>\n",
       "      <td>0.25</td>\n",
       "      <td>0.33</td>\n",
       "    </tr>\n",
       "  </tbody>\n",
       "</table>\n",
       "</div>"
      ],
      "text/plain": [
       "              datetime direction       toll_point  rate  pbm_rate\n",
       "0  2018-01-01 00:00:00        NB   2222 to Parmer  0.25      0.33\n",
       "1  2018-01-01 00:00:00        NB       CVZ to 183  0.25      0.33\n",
       "2  2018-01-01 00:00:00        NB    CVZ to Parmer  0.50      0.66\n",
       "3  2018-01-01 00:00:00        SB  2222 to 5th/CVZ  0.25      0.33\n",
       "4  2018-01-01 00:00:00        SB   Parmer to 2222  0.25      0.33"
      ]
     },
     "execution_count": 2,
     "metadata": {},
     "output_type": "execute_result"
    }
   ],
   "source": [
    "df = pd.read_csv('mopac-express-lane-prices.csv')\n",
    "\n",
    "# Display the first few rows of the data to understand its structure\n",
    "df.head()"
   ]
  },
  {
   "cell_type": "code",
   "execution_count": 3,
   "id": "59206684",
   "metadata": {},
   "outputs": [
    {
     "data": {
      "text/plain": [
       "(78899, 5)"
      ]
     },
     "execution_count": 3,
     "metadata": {},
     "output_type": "execute_result"
    }
   ],
   "source": [
    "df.shape"
   ]
  },
  {
   "cell_type": "code",
   "execution_count": 4,
   "id": "114f5d08",
   "metadata": {},
   "outputs": [
    {
     "data": {
      "text/html": [
       "<div>\n",
       "<style scoped>\n",
       "    .dataframe tbody tr th:only-of-type {\n",
       "        vertical-align: middle;\n",
       "    }\n",
       "\n",
       "    .dataframe tbody tr th {\n",
       "        vertical-align: top;\n",
       "    }\n",
       "\n",
       "    .dataframe thead th {\n",
       "        text-align: right;\n",
       "    }\n",
       "</style>\n",
       "<table border=\"1\" class=\"dataframe\">\n",
       "  <thead>\n",
       "    <tr style=\"text-align: right;\">\n",
       "      <th></th>\n",
       "      <th>datetime</th>\n",
       "      <th>direction</th>\n",
       "      <th>rate</th>\n",
       "      <th>pbm_rate</th>\n",
       "      <th>start_point</th>\n",
       "      <th>end_point</th>\n",
       "    </tr>\n",
       "  </thead>\n",
       "  <tbody>\n",
       "    <tr>\n",
       "      <th>0</th>\n",
       "      <td>2018-01-01 00:00:00</td>\n",
       "      <td>NB</td>\n",
       "      <td>0.25</td>\n",
       "      <td>0.33</td>\n",
       "      <td>2222</td>\n",
       "      <td>Parmer</td>\n",
       "    </tr>\n",
       "    <tr>\n",
       "      <th>1</th>\n",
       "      <td>2018-01-01 00:00:00</td>\n",
       "      <td>NB</td>\n",
       "      <td>0.25</td>\n",
       "      <td>0.33</td>\n",
       "      <td>CVZ</td>\n",
       "      <td>183</td>\n",
       "    </tr>\n",
       "    <tr>\n",
       "      <th>2</th>\n",
       "      <td>2018-01-01 00:00:00</td>\n",
       "      <td>NB</td>\n",
       "      <td>0.50</td>\n",
       "      <td>0.66</td>\n",
       "      <td>CVZ</td>\n",
       "      <td>Parmer</td>\n",
       "    </tr>\n",
       "    <tr>\n",
       "      <th>3</th>\n",
       "      <td>2018-01-01 00:00:00</td>\n",
       "      <td>SB</td>\n",
       "      <td>0.25</td>\n",
       "      <td>0.33</td>\n",
       "      <td>2222</td>\n",
       "      <td>5th/CVZ</td>\n",
       "    </tr>\n",
       "    <tr>\n",
       "      <th>4</th>\n",
       "      <td>2018-01-01 00:00:00</td>\n",
       "      <td>SB</td>\n",
       "      <td>0.25</td>\n",
       "      <td>0.33</td>\n",
       "      <td>Parmer</td>\n",
       "      <td>2222</td>\n",
       "    </tr>\n",
       "  </tbody>\n",
       "</table>\n",
       "</div>"
      ],
      "text/plain": [
       "              datetime direction  rate  pbm_rate start_point end_point\n",
       "0  2018-01-01 00:00:00        NB  0.25      0.33        2222    Parmer\n",
       "1  2018-01-01 00:00:00        NB  0.25      0.33         CVZ       183\n",
       "2  2018-01-01 00:00:00        NB  0.50      0.66         CVZ    Parmer\n",
       "3  2018-01-01 00:00:00        SB  0.25      0.33        2222   5th/CVZ\n",
       "4  2018-01-01 00:00:00        SB  0.25      0.33      Parmer      2222"
      ]
     },
     "execution_count": 4,
     "metadata": {},
     "output_type": "execute_result"
    }
   ],
   "source": [
    "df[['start_point', 'end_point']] = df['toll_point'].str.split(' to ', expand=True)\n",
    "\n",
    "# Drop the original 'toll_point' column as it's now split\n",
    "df.drop(columns=['toll_point'], inplace=True)\n",
    "\n",
    "# Display the first few rows to verify the changes\n",
    "df.head()\n"
   ]
  },
  {
   "cell_type": "code",
   "execution_count": 5,
   "id": "8852ee13",
   "metadata": {},
   "outputs": [],
   "source": [
    "np.random.seed(42)\n",
    "df['traffic_volume'] = np.random.randint(100, 500, size=len(df))\n",
    "\n",
    "# Convert datetime to a pandas datetime object\n",
    "df['datetime'] = pd.to_datetime(df['datetime'])\n",
    "\n",
    "# Extract time-based features\n",
    "df['hour'] = df['datetime'].dt.hour\n",
    "df['day_of_week'] = df['datetime'].dt.dayofweek\n"
   ]
  },
  {
   "cell_type": "code",
   "execution_count": 6,
   "id": "7702e87e",
   "metadata": {},
   "outputs": [],
   "source": [
    "original_values = df[['direction', 'start_point', 'end_point']].copy()\n",
    "\n",
    "# Encode the categorical variables\n",
    "encoders = {}\n",
    "for column in ['direction', 'start_point', 'end_point']:\n",
    "    encoder = LabelEncoder()\n",
    "    df[column] = encoder.fit_transform(df[column])\n",
    "    encoders[column] = encoder"
   ]
  },
  {
   "cell_type": "code",
   "execution_count": 7,
   "id": "5a08a4da",
   "metadata": {},
   "outputs": [
    {
     "data": {
      "text/html": [
       "<div>\n",
       "<style scoped>\n",
       "    .dataframe tbody tr th:only-of-type {\n",
       "        vertical-align: middle;\n",
       "    }\n",
       "\n",
       "    .dataframe tbody tr th {\n",
       "        vertical-align: top;\n",
       "    }\n",
       "\n",
       "    .dataframe thead th {\n",
       "        text-align: right;\n",
       "    }\n",
       "</style>\n",
       "<table border=\"1\" class=\"dataframe\">\n",
       "  <thead>\n",
       "    <tr style=\"text-align: right;\">\n",
       "      <th></th>\n",
       "      <th>datetime</th>\n",
       "      <th>direction</th>\n",
       "      <th>rate</th>\n",
       "      <th>pbm_rate</th>\n",
       "      <th>start_point</th>\n",
       "      <th>end_point</th>\n",
       "      <th>traffic_volume</th>\n",
       "      <th>hour</th>\n",
       "      <th>day_of_week</th>\n",
       "    </tr>\n",
       "  </thead>\n",
       "  <tbody>\n",
       "    <tr>\n",
       "      <th>0</th>\n",
       "      <td>2018-01-01</td>\n",
       "      <td>0</td>\n",
       "      <td>0.25</td>\n",
       "      <td>0.33</td>\n",
       "      <td>0</td>\n",
       "      <td>3</td>\n",
       "      <td>202</td>\n",
       "      <td>0</td>\n",
       "      <td>0</td>\n",
       "    </tr>\n",
       "    <tr>\n",
       "      <th>1</th>\n",
       "      <td>2018-01-01</td>\n",
       "      <td>0</td>\n",
       "      <td>0.25</td>\n",
       "      <td>0.33</td>\n",
       "      <td>1</td>\n",
       "      <td>0</td>\n",
       "      <td>448</td>\n",
       "      <td>0</td>\n",
       "      <td>0</td>\n",
       "    </tr>\n",
       "    <tr>\n",
       "      <th>2</th>\n",
       "      <td>2018-01-01</td>\n",
       "      <td>0</td>\n",
       "      <td>0.50</td>\n",
       "      <td>0.66</td>\n",
       "      <td>1</td>\n",
       "      <td>3</td>\n",
       "      <td>370</td>\n",
       "      <td>0</td>\n",
       "      <td>0</td>\n",
       "    </tr>\n",
       "    <tr>\n",
       "      <th>3</th>\n",
       "      <td>2018-01-01</td>\n",
       "      <td>1</td>\n",
       "      <td>0.25</td>\n",
       "      <td>0.33</td>\n",
       "      <td>0</td>\n",
       "      <td>2</td>\n",
       "      <td>206</td>\n",
       "      <td>0</td>\n",
       "      <td>0</td>\n",
       "    </tr>\n",
       "    <tr>\n",
       "      <th>4</th>\n",
       "      <td>2018-01-01</td>\n",
       "      <td>1</td>\n",
       "      <td>0.25</td>\n",
       "      <td>0.33</td>\n",
       "      <td>2</td>\n",
       "      <td>1</td>\n",
       "      <td>171</td>\n",
       "      <td>0</td>\n",
       "      <td>0</td>\n",
       "    </tr>\n",
       "  </tbody>\n",
       "</table>\n",
       "</div>"
      ],
      "text/plain": [
       "    datetime  direction  rate  pbm_rate  start_point  end_point  \\\n",
       "0 2018-01-01          0  0.25      0.33            0          3   \n",
       "1 2018-01-01          0  0.25      0.33            1          0   \n",
       "2 2018-01-01          0  0.50      0.66            1          3   \n",
       "3 2018-01-01          1  0.25      0.33            0          2   \n",
       "4 2018-01-01          1  0.25      0.33            2          1   \n",
       "\n",
       "   traffic_volume  hour  day_of_week  \n",
       "0             202     0            0  \n",
       "1             448     0            0  \n",
       "2             370     0            0  \n",
       "3             206     0            0  \n",
       "4             171     0            0  "
      ]
     },
     "execution_count": 7,
     "metadata": {},
     "output_type": "execute_result"
    }
   ],
   "source": [
    "df.head()"
   ]
  },
  {
   "cell_type": "code",
   "execution_count": 8,
   "id": "cdb7be0f",
   "metadata": {},
   "outputs": [],
   "source": [
    "features = ['direction','start_point','end_point','traffic_volume', 'hour', 'day_of_week']\n",
    "target = 'rate'\n",
    "\n",
    "# Split the data into training and testing sets\n",
    "X = df[features]\n",
    "y = df[target]\n",
    "X_train, X_test, y_train, y_test = train_test_split(X, y, test_size=0.2, random_state=42)"
   ]
  },
  {
   "cell_type": "code",
   "execution_count": 15,
   "id": "304192a8",
   "metadata": {},
   "outputs": [
    {
     "name": "stdout",
     "output_type": "stream",
     "text": [
      "MAE: 0.3879431837494143, RMSE: 0.8945745492963216\n"
     ]
    }
   ],
   "source": [
    "# # Scale features\n",
    "# scaler = StandardScaler()\n",
    "# X_train_scaled = scaler.fit_transform(X_train)\n",
    "# X_test_scaled = scaler.transform(X_test)\n",
    "\n",
    "# Train a RandomForest model\n",
    "model = RandomForestRegressor(n_estimators=50, max_depth=5, random_state=10)\n",
    "model.fit(X_train, y_train)\n",
    "\n",
    "# Make predictions\n",
    "y_pred = model.predict(X_test)\n",
    "\n",
    "# Evaluate the model\n",
    "mae = mean_absolute_error(y_test, y_pred)\n",
    "rmse = mean_squared_error(y_test, y_pred, squared=False)\n",
    "\n",
    "print(f'MAE: {mae}, RMSE: {rmse}')\n",
    "\n",
    "# Function to make predictions with original values\n",
    "def predict_with_original_values(direction, start_point, end_point, traffic_volume, hour, day_of_week):\n",
    "    # Encode the input values\n",
    "    direction_encoded = encoders['direction'].transform([direction])[0]\n",
    "    start_point_encoded = encoders['start_point'].transform([start_point])[0]\n",
    "    end_point_encoded = encoders['end_point'].transform([end_point])[0]\n",
    "\n",
    "    # Create the input array\n",
    "    input_array = [[direction_encoded, start_point_encoded, end_point_encoded, traffic_volume, hour, day_of_week]]\n",
    "\n",
    "    # Scale the input array\n",
    "\n",
    "    # Make prediction\n",
    "    prediction = model.predict(input_array)\n",
    "    return prediction[0]"
   ]
  },
  {
   "cell_type": "code",
   "execution_count": 18,
   "id": "b7bc5ae7",
   "metadata": {},
   "outputs": [
    {
     "name": "stdout",
     "output_type": "stream",
     "text": [
      "Predicted rate: 0.29, Adjusted rate: 0.72\n"
     ]
    },
    {
     "name": "stderr",
     "output_type": "stream",
     "text": [
      "/Users/kabiraj/opt/anaconda3/lib/python3.9/site-packages/sklearn/base.py:450: UserWarning: X does not have valid feature names, but RandomForestRegressor was fitted with feature names\n",
      "  warnings.warn(\n"
     ]
    }
   ],
   "source": [
    "def adjust_rate_based_on_traffic(predicted_rate, traffic_volume, threshold=400):\n",
    "    if traffic_volume > threshold:\n",
    "        adjusted_rate = predicted_rate * (1 + (traffic_volume - threshold) / threshold)\n",
    "    else:\n",
    "        adjusted_rate = predicted_rate * (1 - (threshold - traffic_volume) / threshold)\n",
    "    return adjusted_rate\n",
    "\n",
    "# Example prediction with adjustment\n",
    "predicted_rate = predict_with_original_values('SB', 'CVZ', 'Parmer', 1000, 1, 2)\n",
    "adjusted_rate = adjust_rate_based_on_traffic(predicted_rate, 1000)\n",
    "\n",
    "predicted_rate_rounded = round(predicted_rate, 2)\n",
    "adjusted_rate_rounded = round(adjusted_rate, 2)\n",
    "\n",
    "print(f'Predicted rate: {predicted_rate_rounded}, Adjusted rate: {adjusted_rate_rounded}')"
   ]
  },
  {
   "cell_type": "code",
   "execution_count": 20,
   "id": "666bc9d8",
   "metadata": {},
   "outputs": [],
   "source": [
    "import pickle\n",
    "\n",
    "with open('model.pkl', 'wb') as f:\n",
    "    pickle.dump(model, f)\n",
    "with open('encoders.pkl', 'wb') as f:\n",
    "    pickle.dump(encoders, f)"
   ]
  },
  {
   "cell_type": "code",
   "execution_count": null,
   "id": "0a5ac055",
   "metadata": {},
   "outputs": [],
   "source": []
  }
 ],
 "metadata": {
  "kernelspec": {
   "display_name": "Python 3 (ipykernel)",
   "language": "python",
   "name": "python3"
  },
  "language_info": {
   "codemirror_mode": {
    "name": "ipython",
    "version": 3
   },
   "file_extension": ".py",
   "mimetype": "text/x-python",
   "name": "python",
   "nbconvert_exporter": "python",
   "pygments_lexer": "ipython3",
   "version": "3.9.12"
  }
 },
 "nbformat": 4,
 "nbformat_minor": 5
}
